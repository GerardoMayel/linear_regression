{
  "nbformat": 4,
  "nbformat_minor": 0,
  "metadata": {
    "colab": {
      "name": "Linear Regression.ipynb",
      "provenance": [],
      "collapsed_sections": [],
      "mount_file_id": "1ACB-mmu7x7pY4teLqCw6ZaxFC6QPZmzY",
      "authorship_tag": "ABX9TyMINkWsPNdYOvorYJ25cdVZ",
      "include_colab_link": true
    },
    "kernelspec": {
      "name": "python3",
      "display_name": "Python 3"
    },
    "language_info": {
      "name": "python"
    }
  },
  "cells": [
    {
      "cell_type": "markdown",
      "metadata": {
        "id": "view-in-github",
        "colab_type": "text"
      },
      "source": [
        "<a href=\"https://colab.research.google.com/github/GerardoMayel/linear_regression/blob/main/Linear_Regression.ipynb\" target=\"_parent\"><img src=\"https://colab.research.google.com/assets/colab-badge.svg\" alt=\"Open In Colab\"/></a>"
      ]
    },
    {
      "cell_type": "code",
      "metadata": {
        "id": "M4iNSJnbghja"
      },
      "source": [
        "import pandas as pd\n",
        "import numpy as np\n",
        "import matplotlib.pyplot as plt\n",
        "from sklearn.model_selection import train_test_split\n",
        "from sklearn.linear_model import LinearRegression"
      ],
      "execution_count": 21,
      "outputs": []
    },
    {
      "cell_type": "code",
      "metadata": {
        "colab": {
          "base_uri": "https://localhost:8080/"
        },
        "id": "TmIIpg_khirl",
        "outputId": "cafd09ce-8e05-45dc-f100-d45c39d7c750"
      },
      "source": [
        "from google.colab import drive\n",
        "drive.mount('/content/drive')"
      ],
      "execution_count": 6,
      "outputs": [
        {
          "output_type": "stream",
          "text": [
            "Drive already mounted at /content/drive; to attempt to forcibly remount, call drive.mount(\"/content/drive\", force_remount=True).\n"
          ],
          "name": "stdout"
        }
      ]
    },
    {
      "cell_type": "code",
      "metadata": {
        "colab": {
          "base_uri": "https://localhost:8080/"
        },
        "id": "1X3XaLPliSFY",
        "outputId": "0c87456a-e36e-433e-ed4d-0d54dba5c803"
      },
      "source": [
        "!ls"
      ],
      "execution_count": 7,
      "outputs": [
        {
          "output_type": "stream",
          "text": [
            "drive  sample_data\n"
          ],
          "name": "stdout"
        }
      ]
    },
    {
      "cell_type": "code",
      "metadata": {
        "colab": {
          "base_uri": "https://localhost:8080/"
        },
        "id": "rqDXpkmpiUJ8",
        "outputId": "31dff328-aed3-4e05-b899-98ea72d54132"
      },
      "source": [
        "%cd drive"
      ],
      "execution_count": 12,
      "outputs": [
        {
          "output_type": "stream",
          "text": [
            "/content/drive\n"
          ],
          "name": "stdout"
        }
      ]
    },
    {
      "cell_type": "code",
      "metadata": {
        "colab": {
          "base_uri": "https://localhost:8080/"
        },
        "id": "vx38EKBRik_K",
        "outputId": "17dc9ae3-7c7a-4882-ac5e-6b8f3fc258df"
      },
      "source": [
        "!ls"
      ],
      "execution_count": 13,
      "outputs": [
        {
          "output_type": "stream",
          "text": [
            "MyDrive\n"
          ],
          "name": "stdout"
        }
      ]
    },
    {
      "cell_type": "code",
      "metadata": {
        "colab": {
          "base_uri": "https://localhost:8080/"
        },
        "id": "6YdJNWNcimW7",
        "outputId": "f69151d8-640f-4d05-cb29-8a95bef80f2d"
      },
      "source": [
        "%cd 'MyDrive/Machine Learning/data'"
      ],
      "execution_count": 14,
      "outputs": [
        {
          "output_type": "stream",
          "text": [
            "/content/drive/MyDrive/Machine Learning/data\n"
          ],
          "name": "stdout"
        }
      ]
    },
    {
      "cell_type": "code",
      "metadata": {
        "colab": {
          "base_uri": "https://localhost:8080/"
        },
        "id": "SvT4k_FCivGh",
        "outputId": "01af120f-e8c1-43a2-fc89-8426ea60632b"
      },
      "source": [
        "!ls"
      ],
      "execution_count": 15,
      "outputs": [
        {
          "output_type": "stream",
          "text": [
            "canciones-2018.csv  salarios.csv\n"
          ],
          "name": "stdout"
        }
      ]
    },
    {
      "cell_type": "code",
      "metadata": {
        "colab": {
          "base_uri": "https://localhost:8080/",
          "height": 205
        },
        "id": "z8mvagSLiwi-",
        "outputId": "89567138-98df-4005-d284-aa9611a8d5a3"
      },
      "source": [
        "dataset_salarios = pd.read_csv('salarios.csv')\n",
        "dataset_salarios.head(5)"
      ],
      "execution_count": 69,
      "outputs": [
        {
          "output_type": "execute_result",
          "data": {
            "text/html": [
              "<div>\n",
              "<style scoped>\n",
              "    .dataframe tbody tr th:only-of-type {\n",
              "        vertical-align: middle;\n",
              "    }\n",
              "\n",
              "    .dataframe tbody tr th {\n",
              "        vertical-align: top;\n",
              "    }\n",
              "\n",
              "    .dataframe thead th {\n",
              "        text-align: right;\n",
              "    }\n",
              "</style>\n",
              "<table border=\"1\" class=\"dataframe\">\n",
              "  <thead>\n",
              "    <tr style=\"text-align: right;\">\n",
              "      <th></th>\n",
              "      <th>Aexperiencia</th>\n",
              "      <th>Salario</th>\n",
              "    </tr>\n",
              "  </thead>\n",
              "  <tbody>\n",
              "    <tr>\n",
              "      <th>0</th>\n",
              "      <td>10.0</td>\n",
              "      <td>42500</td>\n",
              "    </tr>\n",
              "    <tr>\n",
              "      <th>1</th>\n",
              "      <td>8.0</td>\n",
              "      <td>36302</td>\n",
              "    </tr>\n",
              "    <tr>\n",
              "      <th>2</th>\n",
              "      <td>5.4</td>\n",
              "      <td>35000</td>\n",
              "    </tr>\n",
              "    <tr>\n",
              "      <th>3</th>\n",
              "      <td>2.5</td>\n",
              "      <td>18103</td>\n",
              "    </tr>\n",
              "    <tr>\n",
              "      <th>4</th>\n",
              "      <td>1.0</td>\n",
              "      <td>15000</td>\n",
              "    </tr>\n",
              "  </tbody>\n",
              "</table>\n",
              "</div>"
            ],
            "text/plain": [
              "   Aexperiencia  Salario\n",
              "0          10.0    42500\n",
              "1           8.0    36302\n",
              "2           5.4    35000\n",
              "3           2.5    18103\n",
              "4           1.0    15000"
            ]
          },
          "metadata": {
            "tags": []
          },
          "execution_count": 69
        }
      ]
    },
    {
      "cell_type": "code",
      "metadata": {
        "colab": {
          "base_uri": "https://localhost:8080/",
          "height": 205
        },
        "id": "s04W2RwMjl9g",
        "outputId": "7e93a94f-cc1d-4148-9847-4f92c58b25eb"
      },
      "source": [
        "dataset_salarios.tail(5)"
      ],
      "execution_count": 24,
      "outputs": [
        {
          "output_type": "execute_result",
          "data": {
            "text/html": [
              "<div>\n",
              "<style scoped>\n",
              "    .dataframe tbody tr th:only-of-type {\n",
              "        vertical-align: middle;\n",
              "    }\n",
              "\n",
              "    .dataframe tbody tr th {\n",
              "        vertical-align: top;\n",
              "    }\n",
              "\n",
              "    .dataframe thead th {\n",
              "        text-align: right;\n",
              "    }\n",
              "</style>\n",
              "<table border=\"1\" class=\"dataframe\">\n",
              "  <thead>\n",
              "    <tr style=\"text-align: right;\">\n",
              "      <th></th>\n",
              "      <th>Aexperiencia</th>\n",
              "      <th>Salario</th>\n",
              "    </tr>\n",
              "  </thead>\n",
              "  <tbody>\n",
              "    <tr>\n",
              "      <th>25</th>\n",
              "      <td>10.0</td>\n",
              "      <td>42500</td>\n",
              "    </tr>\n",
              "    <tr>\n",
              "      <th>26</th>\n",
              "      <td>3.2</td>\n",
              "      <td>18300</td>\n",
              "    </tr>\n",
              "    <tr>\n",
              "      <th>27</th>\n",
              "      <td>10.0</td>\n",
              "      <td>40000</td>\n",
              "    </tr>\n",
              "    <tr>\n",
              "      <th>28</th>\n",
              "      <td>4.0</td>\n",
              "      <td>25000</td>\n",
              "    </tr>\n",
              "    <tr>\n",
              "      <th>29</th>\n",
              "      <td>1.0</td>\n",
              "      <td>15000</td>\n",
              "    </tr>\n",
              "  </tbody>\n",
              "</table>\n",
              "</div>"
            ],
            "text/plain": [
              "    Aexperiencia  Salario\n",
              "25          10.0    42500\n",
              "26           3.2    18300\n",
              "27          10.0    40000\n",
              "28           4.0    25000\n",
              "29           1.0    15000"
            ]
          },
          "metadata": {
            "tags": []
          },
          "execution_count": 24
        }
      ]
    },
    {
      "cell_type": "code",
      "metadata": {
        "colab": {
          "base_uri": "https://localhost:8080/"
        },
        "id": "Md4S0Wqpj1jX",
        "outputId": "617f5798-4313-431c-bfd8-8c39192b667a"
      },
      "source": [
        "#30 rows 2 columns\n",
        "dataset_salarios.shape"
      ],
      "execution_count": 62,
      "outputs": [
        {
          "output_type": "execute_result",
          "data": {
            "text/plain": [
              "(30, 2)"
            ]
          },
          "metadata": {
            "tags": []
          },
          "execution_count": 62
        }
      ]
    },
    {
      "cell_type": "code",
      "metadata": {
        "colab": {
          "base_uri": "https://localhost:8080/"
        },
        "id": "r3M07-ZrkGH_",
        "outputId": "c4ac2692-48fd-47de-b0e1-348f4fcc0e4d"
      },
      "source": [
        "x = np.array(dataset_salarios['Aexperiencia'])\n",
        "x"
      ],
      "execution_count": 39,
      "outputs": [
        {
          "output_type": "execute_result",
          "data": {
            "text/plain": [
              "array([10. ,  8. ,  5.4,  2.5,  1. ,  8. ,  4. ,  6. ,  2. , 10. ,  4. ,\n",
              "        7. ,  3. ,  5. ,  2. ,  5. ,  3. ,  2. ,  3. ,  2. ,  5. ,  3.4,\n",
              "        5.3,  2.1,  9.2, 10. ,  3.2, 10. ,  4. ,  1. ])"
            ]
          },
          "metadata": {
            "tags": []
          },
          "execution_count": 39
        }
      ]
    },
    {
      "cell_type": "code",
      "metadata": {
        "colab": {
          "base_uri": "https://localhost:8080/"
        },
        "id": "aJHjRppnkjIR",
        "outputId": "ac05b079-700f-4284-eea8-4303c10c0161"
      },
      "source": [
        "y = np.array(dataset_salarios['Salario'])\n",
        "y"
      ],
      "execution_count": 40,
      "outputs": [
        {
          "output_type": "execute_result",
          "data": {
            "text/plain": [
              "array([42500, 36302, 35000, 18103, 15000, 37000, 26300, 35201, 18302,\n",
              "       42000, 27000, 35201, 19201, 28000, 17000, 33402, 19000, 18200,\n",
              "       19000, 17301, 28000, 20000, 27900, 17500, 40000, 42500, 18300,\n",
              "       40000, 25000, 15000])"
            ]
          },
          "metadata": {
            "tags": []
          },
          "execution_count": 40
        }
      ]
    },
    {
      "cell_type": "code",
      "metadata": {
        "id": "XPWCGQHrwwaz"
      },
      "source": [
        "# dataframe.iloc[:,start_col:end_col]\n",
        "x = dataset_salarios.iloc[:,0 :1].values\n",
        "y = dataset_salarios.iloc[:,1 :2].values"
      ],
      "execution_count": 72,
      "outputs": []
    },
    {
      "cell_type": "code",
      "metadata": {
        "colab": {
          "base_uri": "https://localhost:8080/"
        },
        "id": "K3a9OTh5w-q1",
        "outputId": "13a6d103-cc9a-4498-c2d0-feb4fc76c7c1"
      },
      "source": [
        "print(len(x))\n",
        "print(x)\n",
        "print(y)"
      ],
      "execution_count": 73,
      "outputs": [
        {
          "output_type": "stream",
          "text": [
            "30\n",
            "[[10. ]\n",
            " [ 8. ]\n",
            " [ 5.4]\n",
            " [ 2.5]\n",
            " [ 1. ]\n",
            " [ 8. ]\n",
            " [ 4. ]\n",
            " [ 6. ]\n",
            " [ 2. ]\n",
            " [10. ]\n",
            " [ 4. ]\n",
            " [ 7. ]\n",
            " [ 3. ]\n",
            " [ 5. ]\n",
            " [ 2. ]\n",
            " [ 5. ]\n",
            " [ 3. ]\n",
            " [ 2. ]\n",
            " [ 3. ]\n",
            " [ 2. ]\n",
            " [ 5. ]\n",
            " [ 3.4]\n",
            " [ 5.3]\n",
            " [ 2.1]\n",
            " [ 9.2]\n",
            " [10. ]\n",
            " [ 3.2]\n",
            " [10. ]\n",
            " [ 4. ]\n",
            " [ 1. ]]\n",
            "[[42500]\n",
            " [36302]\n",
            " [35000]\n",
            " [18103]\n",
            " [15000]\n",
            " [37000]\n",
            " [26300]\n",
            " [35201]\n",
            " [18302]\n",
            " [42000]\n",
            " [27000]\n",
            " [35201]\n",
            " [19201]\n",
            " [28000]\n",
            " [17000]\n",
            " [33402]\n",
            " [19000]\n",
            " [18200]\n",
            " [19000]\n",
            " [17301]\n",
            " [28000]\n",
            " [20000]\n",
            " [27900]\n",
            " [17500]\n",
            " [40000]\n",
            " [42500]\n",
            " [18300]\n",
            " [40000]\n",
            " [25000]\n",
            " [15000]]\n"
          ],
          "name": "stdout"
        }
      ]
    },
    {
      "cell_type": "code",
      "metadata": {
        "colab": {
          "base_uri": "https://localhost:8080/"
        },
        "id": "N--v0ROYkoTF",
        "outputId": "6e19b1bc-0c26-48f2-b9d3-840ef6105b9d"
      },
      "source": [
        "X_train, X_test, Y_train, Y_test = train_test_split(x, y, test_size = 0.2, random_state = 0)\n",
        "print(X_train)\n",
        "print(Y_train)"
      ],
      "execution_count": 74,
      "outputs": [
        {
          "output_type": "stream",
          "text": [
            "[[10. ]\n",
            " [ 7. ]\n",
            " [ 2. ]\n",
            " [ 5.3]\n",
            " [ 8. ]\n",
            " [ 3. ]\n",
            " [ 2. ]\n",
            " [ 2. ]\n",
            " [ 2.1]\n",
            " [ 5. ]\n",
            " [ 8. ]\n",
            " [ 1. ]\n",
            " [ 4. ]\n",
            " [ 1. ]\n",
            " [ 3. ]\n",
            " [ 2. ]\n",
            " [10. ]\n",
            " [ 6. ]\n",
            " [10. ]\n",
            " [ 2.5]\n",
            " [10. ]\n",
            " [ 3.4]\n",
            " [ 5. ]\n",
            " [ 3. ]]\n",
            "[[40000]\n",
            " [35201]\n",
            " [18200]\n",
            " [27900]\n",
            " [37000]\n",
            " [19000]\n",
            " [18302]\n",
            " [17000]\n",
            " [17500]\n",
            " [28000]\n",
            " [36302]\n",
            " [15000]\n",
            " [26300]\n",
            " [15000]\n",
            " [19000]\n",
            " [17301]\n",
            " [42000]\n",
            " [35201]\n",
            " [42500]\n",
            " [18103]\n",
            " [42500]\n",
            " [20000]\n",
            " [33402]\n",
            " [19201]]\n"
          ],
          "name": "stdout"
        }
      ]
    },
    {
      "cell_type": "code",
      "metadata": {
        "colab": {
          "base_uri": "https://localhost:8080/",
          "height": 986
        },
        "id": "tsKKCKA82Eum",
        "outputId": "0f3315eb-3095-4cdd-d94e-9ae12309e909"
      },
      "source": [
        "df_experience_vs_salary = pd.DataFrame(dataset_salarios)\n",
        "df_experience_vs_salary"
      ],
      "execution_count": 77,
      "outputs": [
        {
          "output_type": "execute_result",
          "data": {
            "text/html": [
              "<div>\n",
              "<style scoped>\n",
              "    .dataframe tbody tr th:only-of-type {\n",
              "        vertical-align: middle;\n",
              "    }\n",
              "\n",
              "    .dataframe tbody tr th {\n",
              "        vertical-align: top;\n",
              "    }\n",
              "\n",
              "    .dataframe thead th {\n",
              "        text-align: right;\n",
              "    }\n",
              "</style>\n",
              "<table border=\"1\" class=\"dataframe\">\n",
              "  <thead>\n",
              "    <tr style=\"text-align: right;\">\n",
              "      <th></th>\n",
              "      <th>Aexperiencia</th>\n",
              "      <th>Salario</th>\n",
              "    </tr>\n",
              "  </thead>\n",
              "  <tbody>\n",
              "    <tr>\n",
              "      <th>0</th>\n",
              "      <td>10.0</td>\n",
              "      <td>42500</td>\n",
              "    </tr>\n",
              "    <tr>\n",
              "      <th>1</th>\n",
              "      <td>8.0</td>\n",
              "      <td>36302</td>\n",
              "    </tr>\n",
              "    <tr>\n",
              "      <th>2</th>\n",
              "      <td>5.4</td>\n",
              "      <td>35000</td>\n",
              "    </tr>\n",
              "    <tr>\n",
              "      <th>3</th>\n",
              "      <td>2.5</td>\n",
              "      <td>18103</td>\n",
              "    </tr>\n",
              "    <tr>\n",
              "      <th>4</th>\n",
              "      <td>1.0</td>\n",
              "      <td>15000</td>\n",
              "    </tr>\n",
              "    <tr>\n",
              "      <th>5</th>\n",
              "      <td>8.0</td>\n",
              "      <td>37000</td>\n",
              "    </tr>\n",
              "    <tr>\n",
              "      <th>6</th>\n",
              "      <td>4.0</td>\n",
              "      <td>26300</td>\n",
              "    </tr>\n",
              "    <tr>\n",
              "      <th>7</th>\n",
              "      <td>6.0</td>\n",
              "      <td>35201</td>\n",
              "    </tr>\n",
              "    <tr>\n",
              "      <th>8</th>\n",
              "      <td>2.0</td>\n",
              "      <td>18302</td>\n",
              "    </tr>\n",
              "    <tr>\n",
              "      <th>9</th>\n",
              "      <td>10.0</td>\n",
              "      <td>42000</td>\n",
              "    </tr>\n",
              "    <tr>\n",
              "      <th>10</th>\n",
              "      <td>4.0</td>\n",
              "      <td>27000</td>\n",
              "    </tr>\n",
              "    <tr>\n",
              "      <th>11</th>\n",
              "      <td>7.0</td>\n",
              "      <td>35201</td>\n",
              "    </tr>\n",
              "    <tr>\n",
              "      <th>12</th>\n",
              "      <td>3.0</td>\n",
              "      <td>19201</td>\n",
              "    </tr>\n",
              "    <tr>\n",
              "      <th>13</th>\n",
              "      <td>5.0</td>\n",
              "      <td>28000</td>\n",
              "    </tr>\n",
              "    <tr>\n",
              "      <th>14</th>\n",
              "      <td>2.0</td>\n",
              "      <td>17000</td>\n",
              "    </tr>\n",
              "    <tr>\n",
              "      <th>15</th>\n",
              "      <td>5.0</td>\n",
              "      <td>33402</td>\n",
              "    </tr>\n",
              "    <tr>\n",
              "      <th>16</th>\n",
              "      <td>3.0</td>\n",
              "      <td>19000</td>\n",
              "    </tr>\n",
              "    <tr>\n",
              "      <th>17</th>\n",
              "      <td>2.0</td>\n",
              "      <td>18200</td>\n",
              "    </tr>\n",
              "    <tr>\n",
              "      <th>18</th>\n",
              "      <td>3.0</td>\n",
              "      <td>19000</td>\n",
              "    </tr>\n",
              "    <tr>\n",
              "      <th>19</th>\n",
              "      <td>2.0</td>\n",
              "      <td>17301</td>\n",
              "    </tr>\n",
              "    <tr>\n",
              "      <th>20</th>\n",
              "      <td>5.0</td>\n",
              "      <td>28000</td>\n",
              "    </tr>\n",
              "    <tr>\n",
              "      <th>21</th>\n",
              "      <td>3.4</td>\n",
              "      <td>20000</td>\n",
              "    </tr>\n",
              "    <tr>\n",
              "      <th>22</th>\n",
              "      <td>5.3</td>\n",
              "      <td>27900</td>\n",
              "    </tr>\n",
              "    <tr>\n",
              "      <th>23</th>\n",
              "      <td>2.1</td>\n",
              "      <td>17500</td>\n",
              "    </tr>\n",
              "    <tr>\n",
              "      <th>24</th>\n",
              "      <td>9.2</td>\n",
              "      <td>40000</td>\n",
              "    </tr>\n",
              "    <tr>\n",
              "      <th>25</th>\n",
              "      <td>10.0</td>\n",
              "      <td>42500</td>\n",
              "    </tr>\n",
              "    <tr>\n",
              "      <th>26</th>\n",
              "      <td>3.2</td>\n",
              "      <td>18300</td>\n",
              "    </tr>\n",
              "    <tr>\n",
              "      <th>27</th>\n",
              "      <td>10.0</td>\n",
              "      <td>40000</td>\n",
              "    </tr>\n",
              "    <tr>\n",
              "      <th>28</th>\n",
              "      <td>4.0</td>\n",
              "      <td>25000</td>\n",
              "    </tr>\n",
              "    <tr>\n",
              "      <th>29</th>\n",
              "      <td>1.0</td>\n",
              "      <td>15000</td>\n",
              "    </tr>\n",
              "  </tbody>\n",
              "</table>\n",
              "</div>"
            ],
            "text/plain": [
              "    Aexperiencia  Salario\n",
              "0           10.0    42500\n",
              "1            8.0    36302\n",
              "2            5.4    35000\n",
              "3            2.5    18103\n",
              "4            1.0    15000\n",
              "5            8.0    37000\n",
              "6            4.0    26300\n",
              "7            6.0    35201\n",
              "8            2.0    18302\n",
              "9           10.0    42000\n",
              "10           4.0    27000\n",
              "11           7.0    35201\n",
              "12           3.0    19201\n",
              "13           5.0    28000\n",
              "14           2.0    17000\n",
              "15           5.0    33402\n",
              "16           3.0    19000\n",
              "17           2.0    18200\n",
              "18           3.0    19000\n",
              "19           2.0    17301\n",
              "20           5.0    28000\n",
              "21           3.4    20000\n",
              "22           5.3    27900\n",
              "23           2.1    17500\n",
              "24           9.2    40000\n",
              "25          10.0    42500\n",
              "26           3.2    18300\n",
              "27          10.0    40000\n",
              "28           4.0    25000\n",
              "29           1.0    15000"
            ]
          },
          "metadata": {
            "tags": []
          },
          "execution_count": 77
        }
      ]
    },
    {
      "cell_type": "code",
      "metadata": {
        "colab": {
          "base_uri": "https://localhost:8080/",
          "height": 112
        },
        "id": "IK8V3cdD2VfX",
        "outputId": "cd38c1ae-fc1c-40ec-f084-e60a56f6088a"
      },
      "source": [
        "correlation_matrix = df_experience_vs_salary.corr()\n",
        "correlation_matrix"
      ],
      "execution_count": 80,
      "outputs": [
        {
          "output_type": "execute_result",
          "data": {
            "text/html": [
              "<div>\n",
              "<style scoped>\n",
              "    .dataframe tbody tr th:only-of-type {\n",
              "        vertical-align: middle;\n",
              "    }\n",
              "\n",
              "    .dataframe tbody tr th {\n",
              "        vertical-align: top;\n",
              "    }\n",
              "\n",
              "    .dataframe thead th {\n",
              "        text-align: right;\n",
              "    }\n",
              "</style>\n",
              "<table border=\"1\" class=\"dataframe\">\n",
              "  <thead>\n",
              "    <tr style=\"text-align: right;\">\n",
              "      <th></th>\n",
              "      <th>Aexperiencia</th>\n",
              "      <th>Salario</th>\n",
              "    </tr>\n",
              "  </thead>\n",
              "  <tbody>\n",
              "    <tr>\n",
              "      <th>Aexperiencia</th>\n",
              "      <td>1.000000</td>\n",
              "      <td>0.968738</td>\n",
              "    </tr>\n",
              "    <tr>\n",
              "      <th>Salario</th>\n",
              "      <td>0.968738</td>\n",
              "      <td>1.000000</td>\n",
              "    </tr>\n",
              "  </tbody>\n",
              "</table>\n",
              "</div>"
            ],
            "text/plain": [
              "              Aexperiencia   Salario\n",
              "Aexperiencia      1.000000  0.968738\n",
              "Salario           0.968738  1.000000"
            ]
          },
          "metadata": {
            "tags": []
          },
          "execution_count": 80
        }
      ]
    },
    {
      "cell_type": "code",
      "metadata": {
        "colab": {
          "base_uri": "https://localhost:8080/",
          "height": 275
        },
        "id": "VdmSKPaSKD3F",
        "outputId": "6826e58b-2606-4aec-b970-1bc363483d35"
      },
      "source": [
        "plt.matshow(df_experience_vs_salary.corr())\n",
        "plt.show()"
      ],
      "execution_count": 95,
      "outputs": [
        {
          "output_type": "display_data",
          "data": {
            "image/png": "[encoded data removed]",
            "text/plain": [
              "<Figure size 288x288 with 1 Axes>"
            ]
          },
          "metadata": {
            "tags": [],
            "needs_background": "light"
          }
        }
      ]
    },
    {
      "cell_type": "code",
      "metadata": {
        "colab": {
          "base_uri": "https://localhost:8080/",
          "height": 82
        },
        "id": "Hif5Q9PEKh34",
        "outputId": "72db90c2-bef4-45b1-c286-d98d22fa7190"
      },
      "source": [
        "corr = df_experience_vs_salary.corr()\n",
        "corr.style.background_gradient(cmap='coolwarm')"
      ],
      "execution_count": 96,
      "outputs": [
        {
          "output_type": "execute_result",
          "data": {
            "text/html": [
              "<style  type=\"text/css\" >\n",
              "#T_8f5627d4_c18d_11eb_ab46_0242ac1c0002row0_col0,#T_8f5627d4_c18d_11eb_ab46_0242ac1c0002row1_col1{\n",
              "            background-color:  #b40426;\n",
              "            color:  #f1f1f1;\n",
              "        }#T_8f5627d4_c18d_11eb_ab46_0242ac1c0002row0_col1,#T_8f5627d4_c18d_11eb_ab46_0242ac1c0002row1_col0{\n",
              "            background-color:  #3b4cc0;\n",
              "            color:  #f1f1f1;\n",
              "        }</style><table id=\"T_8f5627d4_c18d_11eb_ab46_0242ac1c0002\" ><thead>    <tr>        <th class=\"blank level0\" ></th>        <th class=\"col_heading level0 col0\" >Aexperiencia</th>        <th class=\"col_heading level0 col1\" >Salario</th>    </tr></thead><tbody>\n",
              "                <tr>\n",
              "                        <th id=\"T_8f5627d4_c18d_11eb_ab46_0242ac1c0002level0_row0\" class=\"row_heading level0 row0\" >Aexperiencia</th>\n",
              "                        <td id=\"T_8f5627d4_c18d_11eb_ab46_0242ac1c0002row0_col0\" class=\"data row0 col0\" >1.000000</td>\n",
              "                        <td id=\"T_8f5627d4_c18d_11eb_ab46_0242ac1c0002row0_col1\" class=\"data row0 col1\" >0.968738</td>\n",
              "            </tr>\n",
              "            <tr>\n",
              "                        <th id=\"T_8f5627d4_c18d_11eb_ab46_0242ac1c0002level0_row1\" class=\"row_heading level0 row1\" >Salario</th>\n",
              "                        <td id=\"T_8f5627d4_c18d_11eb_ab46_0242ac1c0002row1_col0\" class=\"data row1 col0\" >0.968738</td>\n",
              "                        <td id=\"T_8f5627d4_c18d_11eb_ab46_0242ac1c0002row1_col1\" class=\"data row1 col1\" >1.000000</td>\n",
              "            </tr>\n",
              "    </tbody></table>"
            ],
            "text/plain": [
              "<pandas.io.formats.style.Styler at 0x7fea1ba7b650>"
            ]
          },
          "metadata": {
            "tags": []
          },
          "execution_count": 96
        }
      ]
    },
    {
      "cell_type": "code",
      "metadata": {
        "colab": {
          "base_uri": "https://localhost:8080/"
        },
        "id": "51yEdR0jqwqS",
        "outputId": "5fb06e2e-98dd-4f74-be4e-899fb8512cb8"
      },
      "source": [
        "regressor = LinearRegression()\n",
        "regressor.fit(X_train, Y_train)"
      ],
      "execution_count": 81,
      "outputs": [
        {
          "output_type": "execute_result",
          "data": {
            "text/plain": [
              "LinearRegression(copy_X=True, fit_intercept=True, n_jobs=None, normalize=False)"
            ]
          },
          "metadata": {
            "tags": []
          },
          "execution_count": 81
        }
      ]
    },
    {
      "cell_type": "code",
      "metadata": {
        "colab": {
          "base_uri": "https://localhost:8080/"
        },
        "id": "9tX4URXz1T_R",
        "outputId": "e98f2477-2305-45b0-ca1f-deced394a97f"
      },
      "source": [
        "print(regressor.predict)"
      ],
      "execution_count": 82,
      "outputs": [
        {
          "output_type": "stream",
          "text": [
            "<bound method LinearModel.predict of LinearRegression(copy_X=True, fit_intercept=True, n_jobs=None, normalize=False)>\n"
          ],
          "name": "stdout"
        }
      ]
    },
    {
      "cell_type": "code",
      "metadata": {
        "colab": {
          "base_uri": "https://localhost:8080/",
          "height": 282
        },
        "id": "4PW5AX5s0yBK",
        "outputId": "f0ac4392-8eb6-4d1a-ee67-ec31a2692d57"
      },
      "source": [
        "viz_train = plt\n",
        "viz_train.scatter(X_train, Y_train, color = 'blue')"
      ],
      "execution_count": 76,
      "outputs": [
        {
          "output_type": "execute_result",
          "data": {
            "text/plain": [
              "<matplotlib.collections.PathCollection at 0x7fea1cbe5150>"
            ]
          },
          "metadata": {
            "tags": []
          },
          "execution_count": 76
        },
        {
          "output_type": "display_data",
          "data": {
            "image/png": "[encoded data removed]",
            "text/plain": [
              "<Figure size 432x288 with 1 Axes>"
            ]
          },
          "metadata": {
            "tags": [],
            "needs_background": "light"
          }
        }
      ]
    },
    {
      "cell_type": "code",
      "metadata": {
        "colab": {
          "base_uri": "https://localhost:8080/",
          "height": 282
        },
        "id": "EVv1JlUHBXcz",
        "outputId": "06526dd9-f780-403c-d434-2fbe1ca8432f"
      },
      "source": [
        "viz_train.plot(X_train, regressor.predict(X_train), color='black')"
      ],
      "execution_count": 83,
      "outputs": [
        {
          "output_type": "execute_result",
          "data": {
            "text/plain": [
              "[<matplotlib.lines.Line2D at 0x7fea1bed7890>]"
            ]
          },
          "metadata": {
            "tags": []
          },
          "execution_count": 83
        },
        {
          "output_type": "display_data",
          "data": {
            "image/png": "[encoded data removed]",
            "text/plain": [
              "<Figure size 432x288 with 1 Axes>"
            ]
          },
          "metadata": {
            "tags": [],
            "needs_background": "light"
          }
        }
      ]
    },
    {
      "cell_type": "code",
      "metadata": {
        "colab": {
          "base_uri": "https://localhost:8080/",
          "height": 295
        },
        "id": "Fb4HIkN8Bk9X",
        "outputId": "0efb914a-8795-4b55-c379-eed4920f62f9"
      },
      "source": [
        "viz_train.scatter(X_train, Y_train, color = 'blue')\n",
        "viz_train.plot(X_train, regressor.predict(X_train), color='black')\n",
        "viz_train.title('Experiencia vs Salario')\n",
        "viz_train.xlabel('Experiencia')\n",
        "viz_train.ylabel('Salario')\n",
        "viz_train.show()"
      ],
      "execution_count": 91,
      "outputs": [
        {
          "output_type": "display_data",
          "data": {
            "image/png": "[encoded data removed]",
            "text/plain": [
              "<Figure size 432x288 with 1 Axes>"
            ]
          },
          "metadata": {
            "tags": [],
            "needs_background": "light"
          }
        }
      ]
    },
    {
      "cell_type": "code",
      "metadata": {
        "colab": {
          "base_uri": "https://localhost:8080/",
          "height": 295
        },
        "id": "9EvBL4MwB2kT",
        "outputId": "5828a90f-2b34-4ba8-e0bc-49193406c043"
      },
      "source": [
        "viz_train.scatter(X_test, Y_test, color = 'red')\n",
        "viz_train.plot(X_train, regressor.predict(X_train), color='black')\n",
        "viz_train.title('Experiencia vs Salario')\n",
        "viz_train.xlabel('Experiencia')\n",
        "viz_train.ylabel('Salario')\n",
        "viz_train.show()"
      ],
      "execution_count": 92,
      "outputs": [
        {
          "output_type": "display_data",
          "data": {
            "image/png": "[encoded data removed]",
            "text/plain": [
              "<Figure size 432x288 with 1 Axes>"
            ]
          },
          "metadata": {
            "tags": [],
            "needs_background": "light"
          }
        }
      ]
    },
    {
      "cell_type": "code",
      "metadata": {
        "colab": {
          "base_uri": "https://localhost:8080/"
        },
        "id": "dy4i5HsPNllK",
        "outputId": "775e8b20-a8c1-456b-d105-9fa5bdce48e4"
      },
      "source": [
        "regressor.score(x,y)"
      ],
      "execution_count": 99,
      "outputs": [
        {
          "output_type": "execute_result",
          "data": {
            "text/plain": [
              "0.9377825680354295"
            ]
          },
          "metadata": {
            "tags": []
          },
          "execution_count": 99
        }
      ]
    },
    {
      "cell_type": "code",
      "metadata": {
        "colab": {
          "base_uri": "https://localhost:8080/"
        },
        "id": "Kf3cpdeDNdf5",
        "outputId": "87e1f1f4-95a3-42f4-9973-32da8ca97a21"
      },
      "source": [
        "regressor.score(X_train, Y_train)"
      ],
      "execution_count": 98,
      "outputs": [
        {
          "output_type": "execute_result",
          "data": {
            "text/plain": [
              "0.9565839912115904"
            ]
          },
          "metadata": {
            "tags": []
          },
          "execution_count": 98
        }
      ]
    },
    {
      "cell_type": "code",
      "metadata": {
        "colab": {
          "base_uri": "https://localhost:8080/"
        },
        "id": "oTWlntK3EcX0",
        "outputId": "5ad74573-7ba8-4df9-e031-831224d3325c"
      },
      "source": [
        "regressor.score(X_test, Y_test)\n"
      ],
      "execution_count": 93,
      "outputs": [
        {
          "output_type": "execute_result",
          "data": {
            "text/plain": [
              "0.7862437374732997"
            ]
          },
          "metadata": {
            "tags": []
          },
          "execution_count": 93
        }
      ]
    },
    {
      "cell_type": "code",
      "metadata": {
        "id": "dZGL62HlEivO"
      },
      "source": [
        ""
      ],
      "execution_count": null,
      "outputs": []
    }
  ]
}